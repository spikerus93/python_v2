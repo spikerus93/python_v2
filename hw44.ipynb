{
  "nbformat": 4,
  "nbformat_minor": 0,
  "metadata": {
    "colab": {
      "provenance": [],
      "authorship_tag": "ABX9TyOK7BHgY/+Zfe1+qTwe6pEW",
      "include_colab_link": true
    },
    "kernelspec": {
      "name": "python3",
      "display_name": "Python 3"
    },
    "language_info": {
      "name": "python"
    }
  },
  "cells": [
    {
      "cell_type": "markdown",
      "metadata": {
        "id": "view-in-github",
        "colab_type": "text"
      },
      "source": [
        "<a href=\"https://colab.research.google.com/github/spikerus93/python_v2/blob/second/hw44.ipynb\" target=\"_parent\"><img src=\"https://colab.research.google.com/assets/colab-badge.svg\" alt=\"Open In Colab\"/></a>"
      ]
    },
    {
      "cell_type": "markdown",
      "source": [
        "**Задача 44**:\n",
        "\n",
        "В ячейке ниже представлен код генерирующий DataFrame, которая состоит всего из 1 столбца.\n",
        "\n",
        "Ваша задача перевести его в one hot вид. Сможете ли вы это сделать без get_dummies?\n",
        "\n",
        "(Передать работу посредством PullRequest)"
      ],
      "metadata": {
        "id": "8YyhUljqqUFx"
      }
    },
    {
      "cell_type": "code",
      "source": [
        "import pandas as pd\n",
        "import random\n",
        "\n",
        "lst = ['robot'] * 10\n",
        "lst += ['human'] * 10\n",
        "random.shuffle(lst)\n",
        "data = pd.DataFrame({'whoAmI': lst})\n",
        "data.head()\n",
        "\n",
        "uniq_values = data['whoAmI'].unique()  # Получаем уникальные значения\n",
        "one_hot = pd.DataFrame()  # Создаем новый Датафрейм\n",
        "\n",
        "# Поиск уникальных значений для добавления в новый Датафрейм с столбцом Значения.\n",
        "for value in uniq_values:\n",
        "    one_hot[value] = (data['whoAmI'] == value).astype(int)\n",
        "one_hot.head()\n",
        "print(one_hot)"
      ],
      "metadata": {
        "id": "lf0AAHM2qWYR"
      },
      "execution_count": null,
      "outputs": []
    }
  ]
}